{
 "cells": [
  {
   "cell_type": "markdown",
   "metadata": {},
   "source": [
    "# Key Methods: Week 10\n",
    "\n",
    "# Spatial data analysis and batch processing in Python and GIS"
   ]
  },
  {
   "cell_type": "code",
   "execution_count": null,
   "metadata": {},
   "outputs": [],
   "source": [
    "# run this to display graphs nicely in this notebook\n",
    "\n",
    "%matplotlib inline\n"
   ]
  },
  {
   "cell_type": "markdown",
   "metadata": {},
   "source": [
    "## Introduction\n",
    "\n",
    "This week we will use a mixture of python and GIS to process a large set of data. GIS allows us to visually assess and interact with each step, whilst python allows us to easily scale up to processing large datasets with a single button press, making repeat processing easy. We will answer the same question as week 2; using lidar data to map biomass along the Spey river valley.\n",
    "\n",
    "## Data\n",
    "\n",
    "Again we are using the DTM and DSM provided by the [Scottish government](https://remotesensingdata.gov.scot/data#/list). These have been provided through Noteable in the ***data*** directory. There are three folders containing the DSM and DTMs at 10 m resolution, and one with a single DSM tile at 1 m resoluton."
   ]
  },
  {
   "cell_type": "code",
   "execution_count": null,
   "metadata": {},
   "outputs": [],
   "source": []
  },
  {
   "cell_type": "markdown",
   "metadata": {},
   "source": [
    "## Image maps\n",
    "\n",
    "File $\\texttt{ArthursSeat.txt}$ contains elevations in metres on an 800×800 grid with 2 m horizontal spacing for our very own Carboniferous volcano. This is a text file containing the geospatial data. Open the file and have a look. Satisfy yourself that it is a 2D spreadsheet of elevation values. Later we will see some other common, and more efficient, spatial data formats.\n",
    "\n",
    "Write a program to read the elevation file into an array `z`. Simply calling `plt.imshow(z)` will now make an image map, but there are several things that we will want to change about this default map.\n",
    "\n",
    "First, note that the numbers on the y axis are in reverse order (and, if you are familiar with the topography of Arthur’s Seat, you will see that the map is inverted). This follows the convention for storing images (i.e. a digital photograph will be shown correctly) but can be corrected for map axes with an origin in the lower left corner by adding keyword argument `origin='lower'`. "
   ]
  },
  {
   "cell_type": "code",
   "execution_count": null,
   "metadata": {},
   "outputs": [],
   "source": []
  },
  {
   "cell_type": "markdown",
   "metadata": {},
   "source": [
    "Keyword argument `cmap` in `plt.imshow()` selects the colour map. The default is called `'viridis'`, which is a perceptually uniform sequential colour map (one which gives uniform steps in perceived brightness for uniform steps in data values), but `cmap='gray'` gives a greyscale which works perfectly well for this example. Experiment with the matplotlib colour maps listed at  http://matplotlib.org/users/colormaps.html to find ones that you think are particularly good or bad for showing this data. Until recently, the matplotlib default was the rainbow scale called `'jet'`, and you will still see many examples of plots with rainbow scales in research literature, even though they are now considered to be a poor choice.\n",
    "\n",
    "The axes are labelled in grid coordinates (numbers of points) rather than geographical coordinates. The correct extents of the axes (800 × 2 = 1600 m) can be set with keyword argument `extent=(0,1600,0,1600)`. Use `plt.xticks()` and `plt.yticks()` if you want to control where the axis tick marks are placed and how they are labelled.\n",
    "\n",
    "To have a colour bar beside the map, add `cbar = plt.colorbar()`. \n",
    "\n",
    "Having assigned a name to the colour bar object, there are several methods that can modify it. Use the `set_label()` method with a text string to label the colour bar, e.g. `cbar.set_label('Elevation (m)')`, and use `cbar.set_ticks(list)` with a list of numbers to set the locations of tick marks on the bar.\n",
    "\n",
    "\n",
    "## Gradients and slopes\n",
    "\n",
    "The components of the gradient vector for array `z` can be estimated by central differences using \n",
    "```\n",
    "dzdy, dzdx = np.gradient(z, dx)\n",
    "```\n",
    "where `dx` is the grid spacing (2 m for the Arthur’s Seat DEM). The slope is calculated and converted to slope angle in degrees by \n",
    "```\n",
    "slope = np.sqrt(dzdx**2 + dzdy**2)\n",
    "angle = np.rad2deg(np.arctan(slope))\n",
    "```\n",
    "\n",
    "Make a figure with three images of `dzdx`, `dzdy` and `angle` side by side. In this layout, you might think that horizontal colour bars under the plots will fit better; use `plt.colorbar(orientation='horizontal')` to do this. If you want to shrink or expand the bar to a fraction of its default size, use keyword argument `shrink`.\n",
    "\n",
    "Because `dzdx` and `dzdy` have both positive and negative values, use a diverging scale from the list of colour maps. Ensure that zero is in the middle of the scale by setting symmetrical negative and positive values for keyword arguments `vmin` and `vmax` in `plt.imshow()`."
   ]
  },
  {
   "cell_type": "code",
   "execution_count": null,
   "metadata": {},
   "outputs": [],
   "source": []
  },
  {
   "cell_type": "markdown",
   "metadata": {
    "collapsed": true
   },
   "source": [
    "\n",
    "Find the maximum slope angle. The places with the steepest slopes should be clearly visible in the slope angle image; check that they are where you expect them to be.\n",
    "\n",
    "\n",
    "## Topographic shading\n",
    "\n",
    "A shaded surface map can be created with the lines\n",
    "```\n",
    "from matplotlib.colors import LightSource\n",
    "ls = LightSource(azdeg=315, altdeg=45)\n",
    "shadsurf = ls.shade(z, cmap=plt.cm.gray)\n",
    "plt.imshow(shadsurf, origin='lower')\n",
    "```\n",
    "for an array of elevations `z` that has already been loaded. `azdeg=315` and `altdeg=45` are the default azimuth and elevation angles in degrees for the light source.\n",
    "\n",
    "Make a shaded surface plot of Arthur’s Seat and experiment with different azimuth angles (0º to 360º) and elevation angles (0º to 90º) for the light source to see how the appearance of the plot changes. "
   ]
  },
  {
   "cell_type": "code",
   "execution_count": null,
   "metadata": {},
   "outputs": [],
   "source": []
  },
  {
   "cell_type": "markdown",
   "metadata": {},
   "source": [
    "Contours can be added to a shaded map simply by putting `plt.contour()` after `plt.imshow()`. Pleasing effects can be produced by shading a coloured image map, but this requires making the shading semi-transparent; add keyword argument `alpha` with a value between 0 (fully transparent) and 1 (opaque)."
   ]
  },
  {
   "cell_type": "code",
   "execution_count": null,
   "metadata": {},
   "outputs": [],
   "source": []
  },
  {
   "cell_type": "markdown",
   "metadata": {},
   "source": [
    "## Geospatial data formats\n",
    "\n",
    "In the exercise above, we have read our geospatial data from a text file, in exactly the same way we have been reading data from .txt and .csv files in previous weeks. These text files are known as [ASCII](https://www.pcmag.com/encyclopedia/term/ascii-file). They are easy to read with lots of different pieces of software, but can you see any limitations to them?\n",
    "\n",
    "Where in the world is this topograhic map? How can you find the coordinate of any given point in it?\n",
    "\n",
    "This file has no \"metadata\" to allow you to place it in the real world, or to give you other extra information to help you make correct use of it. There are file formats available that contain this metadata, known as ***self-describing files***, as they contain all the information you need to interpret all of the information contained. Some common formats for geospatial data are [geotiff](https://en.wikipedia.org/wiki/GeoTIFF), [HDF5](https://support.hdfgroup.org/HDF5/whatishdf5.html) and [netcdf](https://www.unidata.ucar.edu/software/netcdf/). All of these can contain some geospatial information, along with the metadata (stored in a header) needed. HDF5 and NetCDF can store very complex data. A geotiff is essentially the same as our ***\"ArthursSeat.txt\"***, but uses a more compact ***binary*** format, rather than storing them as number characters, and has the metadata header.\n",
    "\n",
    "Some geotiff file have been proivided. These are lidar datasets collected by the Scottish government and provided for free from [here](https://remotesensingdata.gov.scot/data#/list). Some have been downloaded for you to the ***data*** directory.\n",
    "\n",
    "Opening the data is a little more complicated than reading from a text file, as python loads it in to a ***structure***, which requires all the metadata to be set up correctly. But once you are used to the syntax and order, it is a very powerful tool.\n",
    "\n",
    "The script below shows how to use the gdal library to geotiff a raster in to memory. Here the data is in a numpy array. Add to the end of this script to make the same plot you did for the text file DTM."
   ]
  },
  {
   "cell_type": "code",
   "execution_count": 1,
   "metadata": {},
   "outputs": [
    {
     "ename": "ImportError",
     "evalue": "dlopen(/anaconda3/lib/python3.6/site-packages/osgeo/_gdal.cpython-36m-darwin.so, 2): Library not loaded: @rpath/libpoppler.76.dylib\n  Referenced from: /anaconda3/lib/libgdal.26.dylib\n  Reason: image not found",
     "output_type": "error",
     "traceback": [
      "\u001b[0;31m---------------------------------------------------------------------------\u001b[0m",
      "\u001b[0;31mImportError\u001b[0m                               Traceback (most recent call last)",
      "\u001b[0;32m<ipython-input-1-20564d7a25a8>\u001b[0m in \u001b[0;36m<module>\u001b[0;34m\u001b[0m\n\u001b[0;32m----> 1\u001b[0;31m \u001b[0;32mimport\u001b[0m \u001b[0mgdal\u001b[0m\u001b[0;34m,\u001b[0m\u001b[0mosr\u001b[0m\u001b[0;34m\u001b[0m\u001b[0;34m\u001b[0m\u001b[0m\n\u001b[0m\u001b[1;32m      2\u001b[0m \u001b[0;32mimport\u001b[0m \u001b[0mnumpy\u001b[0m \u001b[0;32mas\u001b[0m \u001b[0mnp\u001b[0m\u001b[0;34m\u001b[0m\u001b[0;34m\u001b[0m\u001b[0m\n\u001b[1;32m      3\u001b[0m \u001b[0;34m\u001b[0m\u001b[0m\n\u001b[1;32m      4\u001b[0m \u001b[0;31m# open a dataset object\u001b[0m\u001b[0;34m\u001b[0m\u001b[0;34m\u001b[0m\u001b[0;34m\u001b[0m\u001b[0m\n\u001b[1;32m      5\u001b[0m \u001b[0mfilename\u001b[0m\u001b[0;34m=\u001b[0m\u001b[0;34m'data/dtm/Coarsen.NT27SE_50CM_DTM_PHASE3.tif'\u001b[0m\u001b[0;34m\u001b[0m\u001b[0;34m\u001b[0m\u001b[0m\n",
      "\u001b[0;32m/anaconda3/lib/python3.6/site-packages/gdal.py\u001b[0m in \u001b[0;36m<module>\u001b[0;34m\u001b[0m\n\u001b[1;32m      1\u001b[0m \u001b[0;31m# import osgeo.gdal as a convenience\u001b[0m\u001b[0;34m\u001b[0m\u001b[0;34m\u001b[0m\u001b[0;34m\u001b[0m\u001b[0m\n\u001b[0;32m----> 2\u001b[0;31m \u001b[0;32mfrom\u001b[0m \u001b[0mosgeo\u001b[0m\u001b[0;34m.\u001b[0m\u001b[0mgdal\u001b[0m \u001b[0;32mimport\u001b[0m \u001b[0mdeprecation_warn\u001b[0m\u001b[0;34m\u001b[0m\u001b[0;34m\u001b[0m\u001b[0m\n\u001b[0m\u001b[1;32m      3\u001b[0m \u001b[0mdeprecation_warn\u001b[0m\u001b[0;34m(\u001b[0m\u001b[0;34m'gdal'\u001b[0m\u001b[0;34m)\u001b[0m\u001b[0;34m\u001b[0m\u001b[0;34m\u001b[0m\u001b[0m\n\u001b[1;32m      4\u001b[0m \u001b[0;34m\u001b[0m\u001b[0m\n\u001b[1;32m      5\u001b[0m \u001b[0;32mfrom\u001b[0m \u001b[0mosgeo\u001b[0m\u001b[0;34m.\u001b[0m\u001b[0mgdal\u001b[0m \u001b[0;32mimport\u001b[0m \u001b[0;34m*\u001b[0m\u001b[0;34m\u001b[0m\u001b[0;34m\u001b[0m\u001b[0m\n",
      "\u001b[0;32m/anaconda3/lib/python3.6/site-packages/osgeo/__init__.py\u001b[0m in \u001b[0;36m<module>\u001b[0;34m\u001b[0m\n\u001b[1;32m     19\u001b[0m                 \u001b[0mfp\u001b[0m\u001b[0;34m.\u001b[0m\u001b[0mclose\u001b[0m\u001b[0;34m(\u001b[0m\u001b[0;34m)\u001b[0m\u001b[0;34m\u001b[0m\u001b[0;34m\u001b[0m\u001b[0m\n\u001b[1;32m     20\u001b[0m             \u001b[0;32mreturn\u001b[0m \u001b[0m_mod\u001b[0m\u001b[0;34m\u001b[0m\u001b[0;34m\u001b[0m\u001b[0m\n\u001b[0;32m---> 21\u001b[0;31m     \u001b[0m_gdal\u001b[0m \u001b[0;34m=\u001b[0m \u001b[0mswig_import_helper\u001b[0m\u001b[0;34m(\u001b[0m\u001b[0;34m)\u001b[0m\u001b[0;34m\u001b[0m\u001b[0;34m\u001b[0m\u001b[0m\n\u001b[0m\u001b[1;32m     22\u001b[0m     \u001b[0;32mdel\u001b[0m \u001b[0mswig_import_helper\u001b[0m\u001b[0;34m\u001b[0m\u001b[0;34m\u001b[0m\u001b[0m\n\u001b[1;32m     23\u001b[0m \u001b[0;32melse\u001b[0m\u001b[0;34m:\u001b[0m\u001b[0;34m\u001b[0m\u001b[0;34m\u001b[0m\u001b[0m\n",
      "\u001b[0;32m/anaconda3/lib/python3.6/site-packages/osgeo/__init__.py\u001b[0m in \u001b[0;36mswig_import_helper\u001b[0;34m()\u001b[0m\n\u001b[1;32m     15\u001b[0m         \u001b[0;32mif\u001b[0m \u001b[0mfp\u001b[0m \u001b[0;32mis\u001b[0m \u001b[0;32mnot\u001b[0m \u001b[0;32mNone\u001b[0m\u001b[0;34m:\u001b[0m\u001b[0;34m\u001b[0m\u001b[0;34m\u001b[0m\u001b[0m\n\u001b[1;32m     16\u001b[0m             \u001b[0;32mtry\u001b[0m\u001b[0;34m:\u001b[0m\u001b[0;34m\u001b[0m\u001b[0;34m\u001b[0m\u001b[0m\n\u001b[0;32m---> 17\u001b[0;31m                 \u001b[0m_mod\u001b[0m \u001b[0;34m=\u001b[0m \u001b[0mimp\u001b[0m\u001b[0;34m.\u001b[0m\u001b[0mload_module\u001b[0m\u001b[0;34m(\u001b[0m\u001b[0;34m'_gdal'\u001b[0m\u001b[0;34m,\u001b[0m \u001b[0mfp\u001b[0m\u001b[0;34m,\u001b[0m \u001b[0mpathname\u001b[0m\u001b[0;34m,\u001b[0m \u001b[0mdescription\u001b[0m\u001b[0;34m)\u001b[0m\u001b[0;34m\u001b[0m\u001b[0;34m\u001b[0m\u001b[0m\n\u001b[0m\u001b[1;32m     18\u001b[0m             \u001b[0;32mfinally\u001b[0m\u001b[0;34m:\u001b[0m\u001b[0;34m\u001b[0m\u001b[0;34m\u001b[0m\u001b[0m\n\u001b[1;32m     19\u001b[0m                 \u001b[0mfp\u001b[0m\u001b[0;34m.\u001b[0m\u001b[0mclose\u001b[0m\u001b[0;34m(\u001b[0m\u001b[0;34m)\u001b[0m\u001b[0;34m\u001b[0m\u001b[0;34m\u001b[0m\u001b[0m\n",
      "\u001b[0;32m/anaconda3/lib/python3.6/imp.py\u001b[0m in \u001b[0;36mload_module\u001b[0;34m(name, file, filename, details)\u001b[0m\n\u001b[1;32m    241\u001b[0m                 \u001b[0;32mreturn\u001b[0m \u001b[0mload_dynamic\u001b[0m\u001b[0;34m(\u001b[0m\u001b[0mname\u001b[0m\u001b[0;34m,\u001b[0m \u001b[0mfilename\u001b[0m\u001b[0;34m,\u001b[0m \u001b[0mopened_file\u001b[0m\u001b[0;34m)\u001b[0m\u001b[0;34m\u001b[0m\u001b[0;34m\u001b[0m\u001b[0m\n\u001b[1;32m    242\u001b[0m         \u001b[0;32melse\u001b[0m\u001b[0;34m:\u001b[0m\u001b[0;34m\u001b[0m\u001b[0;34m\u001b[0m\u001b[0m\n\u001b[0;32m--> 243\u001b[0;31m             \u001b[0;32mreturn\u001b[0m \u001b[0mload_dynamic\u001b[0m\u001b[0;34m(\u001b[0m\u001b[0mname\u001b[0m\u001b[0;34m,\u001b[0m \u001b[0mfilename\u001b[0m\u001b[0;34m,\u001b[0m \u001b[0mfile\u001b[0m\u001b[0;34m)\u001b[0m\u001b[0;34m\u001b[0m\u001b[0;34m\u001b[0m\u001b[0m\n\u001b[0m\u001b[1;32m    244\u001b[0m     \u001b[0;32melif\u001b[0m \u001b[0mtype_\u001b[0m \u001b[0;34m==\u001b[0m \u001b[0mPKG_DIRECTORY\u001b[0m\u001b[0;34m:\u001b[0m\u001b[0;34m\u001b[0m\u001b[0;34m\u001b[0m\u001b[0m\n\u001b[1;32m    245\u001b[0m         \u001b[0;32mreturn\u001b[0m \u001b[0mload_package\u001b[0m\u001b[0;34m(\u001b[0m\u001b[0mname\u001b[0m\u001b[0;34m,\u001b[0m \u001b[0mfilename\u001b[0m\u001b[0;34m)\u001b[0m\u001b[0;34m\u001b[0m\u001b[0;34m\u001b[0m\u001b[0m\n",
      "\u001b[0;32m/anaconda3/lib/python3.6/imp.py\u001b[0m in \u001b[0;36mload_dynamic\u001b[0;34m(name, path, file)\u001b[0m\n\u001b[1;32m    341\u001b[0m         spec = importlib.machinery.ModuleSpec(\n\u001b[1;32m    342\u001b[0m             name=name, loader=loader, origin=path)\n\u001b[0;32m--> 343\u001b[0;31m         \u001b[0;32mreturn\u001b[0m \u001b[0m_load\u001b[0m\u001b[0;34m(\u001b[0m\u001b[0mspec\u001b[0m\u001b[0;34m)\u001b[0m\u001b[0;34m\u001b[0m\u001b[0;34m\u001b[0m\u001b[0m\n\u001b[0m\u001b[1;32m    344\u001b[0m \u001b[0;34m\u001b[0m\u001b[0m\n\u001b[1;32m    345\u001b[0m \u001b[0;32melse\u001b[0m\u001b[0;34m:\u001b[0m\u001b[0;34m\u001b[0m\u001b[0;34m\u001b[0m\u001b[0m\n",
      "\u001b[0;31mImportError\u001b[0m: dlopen(/anaconda3/lib/python3.6/site-packages/osgeo/_gdal.cpython-36m-darwin.so, 2): Library not loaded: @rpath/libpoppler.76.dylib\n  Referenced from: /anaconda3/lib/libgdal.26.dylib\n  Reason: image not found"
     ]
    }
   ],
   "source": [
    "import gdal,osr\n",
    "import numpy as np\n",
    "\n",
    "# open a dataset object\n",
    "filename='data/dtm/Coarsen.NT27SE_50CM_DTM_PHASE3.tif'\n",
    "ds=gdal.Open(filename)\n",
    "\n",
    "# read all geolocation information.\n",
    "# This tells the computer how to map a 2D coordinate on to the Earth\n",
    "proj=osr.SpatialReference(wkt=ds.GetProjection())\n",
    "epsg=int(proj.GetAttrValue('AUTHORITY',1))\n",
    "\n",
    "# read data dimensions from geotiff object\n",
    "nX=ds.RasterXSize             # number of pixels in x direction\n",
    "nY=ds.RasterYSize             # number of pixels in y direction\n",
    "\n",
    "# geolocation tiepoint\n",
    "transform_ds = ds.GetGeoTransform()# extract geolocation information\n",
    "xOrigin=transform_ds[0]       # coordinate of x corner\n",
    "yOrigin=transform_ds[3]       # coordinate of y corner\n",
    "pixelWidth=transform_ds[1]    # resolution in x direction\n",
    "pixelHeight=transform_ds[5]   # resolution in y direction\n",
    "\n",
    "# read data. Returns as a 2D numpy array\n",
    "data=ds.GetRasterBand(1).ReadAsArray(0,0,nX,nY)\n",
    "\n",
    "# set no data values to 0, otherwise they will cause issues.\n",
    "missingInd=np.where(data<-100.0)\n",
    "if(len(missingInd)>0):\n",
    "    data[missingInd[0],missingInd[1]]=0.0\n",
    "\n",
    "# now plot the data contained in the 2D numpy array, data"
   ]
  },
  {
   "cell_type": "markdown",
   "metadata": {},
   "source": [
    "We can also do quick maths on the spatial datasets. Here we have two ***raster*** layers (2D images), one representating the elevation of the ground (DTM) and the other the elevation of the highest object (DSM). If we subtract one from the other, we can get a map of height above ground. The code below defines a function to read in two filenames, one DTM and one DSM, and then calculate a new array of height above ground.\n",
    "\n",
    "Add some code to that function to plot a graph of the height above ground."
   ]
  },
  {
   "cell_type": "code",
   "execution_count": null,
   "metadata": {},
   "outputs": [],
   "source": [
    "import gdal,osr\n",
    "import numpy as np\n",
    "\n",
    "def readTiff(filename):\n",
    "    '''A function to read a geotiff'''\n",
    "    ds=gdal.Open(filename)\n",
    "\n",
    "    # geolocation tiepoint\n",
    "    transform_ds = ds.GetGeoTransform()# extract geolocation information\n",
    "    xOrigin=transform_ds[0]       # coordinate of x corner\n",
    "    yOrigin=transform_ds[3]       # coordinate of y corner\n",
    "    pixelWidth=transform_ds[1]    # resolution in x direction\n",
    "    pixelHeight=transform_ds[5]   # resolution in y direction\n",
    "\n",
    "    # read data. Returns as a 2D numpy array\n",
    "    data=ds.GetRasterBand(1).ReadAsArray(0,0,nX,nY)\n",
    "    \n",
    "    # set no data values to 0, otherwise they will cause issues.\n",
    "    missingInd=np.where(data<-100.0)\n",
    "    if(len(missingInd)>0):\n",
    "        data[missingInd[0],missingInd[1]]=0.0\n",
    "        \n",
    "    # pass data back\n",
    "    return(data,xOrigin,yOrigin,pixelWidth,pixelHeight)\n",
    "\n",
    "\n",
    "def heightAboveGround(dtmName,dsmName):\n",
    "    '''\n",
    "    A function to calculate height above ground from a DTM and DSM\n",
    "    Note that this assumes the two datasets are aligned and the same resolution\n",
    "    '''\n",
    "    \n",
    "    # open the DTM and DSM and read data\n",
    "    tData,tX0,tY0,tXres,tYres=readTiff(dtmName)  # data plus all metadata\n",
    "    sData,sX0,sY0,sXres,sYres=readTiff(dtmName)  # data plus all metadata\n",
    "    \n",
    "    # Subtract the two to get height, as two are aligned\n",
    "    hData=sData-tData\n",
    "    \n",
    "    # pass back to the calling function\n",
    "    return(hData,tX0,tY0,tXres,tYres)\n",
    "\n",
    "\n",
    "\n",
    "# call those functions\n",
    "dtmName='data/dtm/Coarsen.NT27SE_50CM_DTM_PHASE3.tif'\n",
    "dsmName='data/dsm/Coarsen.NT27SE_50CM_DSM_PHASE3.tif'\n",
    "\n",
    "# calculate the height array and metadata\n",
    "hData,hX0,hY0,hXres,hYres=heightAboveGround(dtmName,dsmName)\n"
   ]
  },
  {
   "cell_type": "markdown",
   "metadata": {},
   "source": [
    "## Batch processing\n",
    "\n",
    "You could have done the processing above with a few clicks within QGIS. The real power of programming comes when you need to scale up the problem. You have 9 tiles covering the area from Musselburgh to a few km south. Using the functions above, write a loop to process all nine tiles and make a height figure for each.\n",
    "\n",
    "The code below starts you off by creating a list of the DTM and DSM files."
   ]
  },
  {
   "cell_type": "code",
   "execution_count": 1,
   "metadata": {},
   "outputs": [
    {
     "name": "stdout",
     "output_type": "stream",
     "text": [
      "DSM data/dsm/Coarsen.NT26NE_50CM_DSM_PHASE3.tif\n",
      "DTM data/dtm/Coarsen.NT26NE_50CM_DTM_PHASE3.tif\n"
     ]
    }
   ],
   "source": [
    "\n",
    "\n",
    "dsmList=[\"data/dsm/Coarsen.NT26NE_50CM_DSM_PHASE3.tif\",\"data/dsm/Coarsen.NT26SE_50CM_DSM_PHASE3.tif\",\n",
    "\"data/dsm/Coarsen.NT27SE_50CM_DSM_PHASE3.tif\",\"data/dsm/Coarsen.NT36NE_50CM_DSM_PHASE3.tif\",\n",
    "\"data/dsm/Coarsen.NT36NW_50CM_DSM_PHASE3.tif\",\"data/dsm/Coarsen.NT36SE_50CM_DSM_PHASE3.tif\",\n",
    "\"data/dsm/Coarsen.NT36SW_50CM_DSM_PHASE3.tif\",\"data/dsm/Coarsen.NT37SE_50CM_DSM_PHASE3.tif\",\n",
    "\"data/dsm/Coarsen.NT37SW_50CM_DSM_PHASE3.tif\"]\n",
    "\n",
    "dtmList=[\"data/dtm/Coarsen.NT26NE_50CM_DTM_PHASE3.tif\",\"data/dtm/Coarsen.NT26SE_50CM_DTM_PHASE3.tif\",\n",
    "\"data/dtm/Coarsen.NT27SE_50CM_DTM_PHASE3.tif\",\"data/dtm/Coarsen.NT36NE_50CM_DTM_PHASE3.tif\",\n",
    "\"data/dtm/Coarsen.NT36NW_50CM_DTM_PHASE3.tif\",\"data/dtm/Coarsen.NT36SE_50CM_DTM_PHASE3.tif\",\n",
    "\"data/dtm/Coarsen.NT36SW_50CM_DTM_PHASE3.tif\",\"data/dtm/Coarsen.NT37SE_50CM_DTM_PHASE3.tif\",\n",
    "\"data/dtm/Coarsen.NT37SW_50CM_DTM_PHASE3.tif\"]\n",
    "\n",
    "print(\"DSM\",dsmList[0])\n",
    "print(\"DTM\",dtmList[0])\n",
    "\n",
    "\n",
    "# Using a loop and the functions in the code block above,\n",
    "# create an image of a height map from each of the files in the list"
   ]
  },
  {
   "cell_type": "markdown",
   "metadata": {},
   "source": [
    "## Additional exercises\n",
    "\n",
    "File $\\texttt{MtStHelens.txt}$ is a DEM of Mount St Helens on an 800×800 point grid with 20 m horizontal spacing. View it with the programs that you wrote for Arthur’s Seat, adjusting parameters as necessary."
   ]
  },
  {
   "cell_type": "code",
   "execution_count": null,
   "metadata": {},
   "outputs": [],
   "source": []
  },
  {
   "cell_type": "markdown",
   "metadata": {},
   "source": [
    "### Plotting vectors\n",
    "\n",
    "Files $\\texttt{Psurf.txt}$, $\\texttt{Uwind.txt}$ and $\\texttt{Vwind.txt}$ contain surface pressure (hPa) and westerly and southerly components of the wind (m s$^{–1}$) over the North Atlantic on 1 September 2010. Make a single plot showing wind speed with colours and pressure with contours (isobars).\n",
    "\n",
    "If you have named the arrays holding the westerly and southerly wind vector components `U` and `V`, wind vector arrows can be simply added to the plot by `plt.quiver(U,V)`. If you know a little meteorology, you will be able to check that the relationship between the isobars and the wind vectors makes sense."
   ]
  },
  {
   "cell_type": "code",
   "execution_count": null,
   "metadata": {},
   "outputs": [],
   "source": []
  }
 ],
 "metadata": {
  "kernelspec": {
   "display_name": "Python 3",
   "language": "python",
   "name": "python3"
  },
  "language_info": {
   "codemirror_mode": {
    "name": "ipython",
    "version": 3
   },
   "file_extension": ".py",
   "mimetype": "text/x-python",
   "name": "python",
   "nbconvert_exporter": "python",
   "pygments_lexer": "ipython3",
   "version": "3.6.9"
  }
 },
 "nbformat": 4,
 "nbformat_minor": 1
}
